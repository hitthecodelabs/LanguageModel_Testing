{
  "nbformat": 4,
  "nbformat_minor": 0,
  "metadata": {
    "colab": {
      "provenance": []
    },
    "kernelspec": {
      "name": "python3",
      "display_name": "Python 3"
    },
    "language_info": {
      "name": "python"
    }
  },
  "cells": [
    {
      "cell_type": "markdown",
      "source": [
        "# Model Testing Implementation\n",
        "\n",
        "This project tests the capabilities of a large language model using various prompts. The model used is `gemini-1.5-pro-001` from Vertex AI. The tests include mathematical problem solving, logical reasoning, creative writing, scientific explanations, historical analysis, multilingual translation, idiomatic expression explanations, statistical analysis, machine learning concepts, and ethical dilemmas.\n",
        "\n",
        "## Setup\n",
        "\n",
        "To set up the environment and authenticate with Google Cloud, use the following commands:"
      ],
      "metadata": {
        "id": "fDnwL5Z7vKD0"
      }
    },
    {
      "cell_type": "code",
      "execution_count": null,
      "metadata": {
        "id": "7MRIU_tanJHm"
      },
      "outputs": [],
      "source": [
        "!gcloud auth login"
      ]
    },
    {
      "cell_type": "code",
      "source": [
        "!gcloud config set project tarea-bigdata-1"
      ],
      "metadata": {
        "colab": {
          "base_uri": "https://localhost:8080/"
        },
        "id": "7HHjonrcnL8V",
        "outputId": "fab50da7-80d8-4a28-c171-77d4edd03c6d"
      },
      "execution_count": 7,
      "outputs": [
        {
          "output_type": "stream",
          "name": "stdout",
          "text": [
            "Updated property [core/project].\n"
          ]
        }
      ]
    },
    {
      "cell_type": "markdown",
      "source": [
        "## Dependencies\n",
        "\n",
        "Ensure you have the following dependencies installed:\n",
        "\n",
        "- `base64`\n",
        "- `vertexai`\n",
        "- `vertexai.preview.generative_models`"
      ],
      "metadata": {
        "id": "Dy2GGU3BwBEF"
      }
    },
    {
      "cell_type": "code",
      "source": [
        "from google.colab import auth as google_auth ### in case using google colab notebook\n",
        "\n",
        "google_auth.authenticate_user()"
      ],
      "metadata": {
        "id": "AqZ7MuFYsFjT"
      },
      "execution_count": 15,
      "outputs": []
    },
    {
      "cell_type": "code",
      "source": [
        "import base64\n",
        "import vertexai\n",
        "from vertexai.generative_models import GenerativeModel, Part, FinishReason\n",
        "import vertexai.preview.generative_models as generative_models"
      ],
      "metadata": {
        "id": "bZM2Q626neay"
      },
      "execution_count": 16,
      "outputs": []
    },
    {
      "cell_type": "markdown",
      "source": [
        "## Initialization\n",
        "\n",
        "Initialize the Vertex AI project:"
      ],
      "metadata": {
        "id": "BTbMYLqdwgRc"
      }
    },
    {
      "cell_type": "code",
      "source": [
        "vertexai.init(project=\"tarea-bigdata-1\", location=\"us-central1\")"
      ],
      "metadata": {
        "id": "-En3ya1JoIEB"
      },
      "execution_count": 17,
      "outputs": []
    },
    {
      "cell_type": "markdown",
      "source": [
        "## Function to Generate Output\n",
        "\n",
        "Define a function to generate output from the model:"
      ],
      "metadata": {
        "id": "aleb-PeawlH2"
      }
    },
    {
      "cell_type": "code",
      "source": [
        "def generate_output(model, prompt, generation_config=None, safety_settings=None):\n",
        "\n",
        "    responses = model.generate_content(\n",
        "        [prompt],\n",
        "        generation_config=generation_config,\n",
        "        safety_settings=safety_settings,\n",
        "        stream=True,\n",
        "    )\n",
        "    return [response.text for response in responses]"
      ],
      "metadata": {
        "id": "ippqQ__gpVJQ"
      },
      "execution_count": 18,
      "outputs": []
    },
    {
      "cell_type": "markdown",
      "source": [
        "## Safety Settings\n",
        "\n",
        "Customize the safety settings to block high-risk content:"
      ],
      "metadata": {
        "id": "gOWR1np3wnRu"
      }
    },
    {
      "cell_type": "code",
      "source": [
        "# safety_settings = {\n",
        "#     generative_models.HarmCategory.HARM_CATEGORY_HATE_SPEECH: generative_models.HarmBlockThreshold.BLOCK_MEDIUM_AND_ABOVE,\n",
        "#     generative_models.HarmCategory.HARM_CATEGORY_DANGEROUS_CONTENT: generative_models.HarmBlockThreshold.BLOCK_MEDIUM_AND_ABOVE,\n",
        "#     generative_models.HarmCategory.HARM_CATEGORY_SEXUALLY_EXPLICIT: generative_models.HarmBlockThreshold.BLOCK_MEDIUM_AND_ABOVE,\n",
        "#     generative_models.HarmCategory.HARM_CATEGORY_HARASSMENT: generative_models.HarmBlockThreshold.BLOCK_MEDIUM_AND_ABOVE,\n",
        "# } ### default\n",
        "\n",
        "safety_settings = {\n",
        "    generative_models.HarmCategory.HARM_CATEGORY_HATE_SPEECH: generative_models.HarmBlockThreshold.BLOCK_ONLY_HIGH,\n",
        "    generative_models.HarmCategory.HARM_CATEGORY_DANGEROUS_CONTENT: generative_models.HarmBlockThreshold.BLOCK_ONLY_HIGH,\n",
        "    generative_models.HarmCategory.HARM_CATEGORY_SEXUALLY_EXPLICIT: generative_models.HarmBlockThreshold.BLOCK_ONLY_HIGH,\n",
        "    generative_models.HarmCategory.HARM_CATEGORY_HARASSMENT: generative_models.HarmBlockThreshold.BLOCK_ONLY_HIGH,\n",
        "} ### custom"
      ],
      "metadata": {
        "id": "eGX7_M0fnlLh"
      },
      "execution_count": 42,
      "outputs": []
    },
    {
      "cell_type": "markdown",
      "source": [
        "## Generation Configuration\n",
        "\n",
        "Set the generation configuration:"
      ],
      "metadata": {
        "id": "4UT6XfwiwpXW"
      }
    },
    {
      "cell_type": "code",
      "source": [
        "generation_config = {\n",
        "    \"max_output_tokens\": 8192,\n",
        "    \"temperature\": 1,\n",
        "    \"top_p\": 0.95,\n",
        "}"
      ],
      "metadata": {
        "id": "m64Rkvaxwq2T"
      },
      "execution_count": 45,
      "outputs": []
    },
    {
      "cell_type": "markdown",
      "source": [
        "## Model Initialization\n",
        "\n",
        "Initialize the model:"
      ],
      "metadata": {
        "id": "yMLxFphFws2X"
      }
    },
    {
      "cell_type": "code",
      "source": [
        "model = GenerativeModel(\"gemini-1.5-pro-001\",)\n",
        "model"
      ],
      "metadata": {
        "colab": {
          "base_uri": "https://localhost:8080/"
        },
        "id": "oDoJMIu6oJwR",
        "outputId": "4876a2ca-e197-4699-c1aa-1eeeafb820c0"
      },
      "execution_count": 20,
      "outputs": [
        {
          "output_type": "execute_result",
          "data": {
            "text/plain": [
              "<vertexai.generative_models.GenerativeModel at 0x7b221c55f790>"
            ]
          },
          "metadata": {},
          "execution_count": 20
        }
      ]
    },
    {
      "cell_type": "markdown",
      "source": [
        "## Prompts and Outputs\n",
        "\n",
        "Test the model with various prompts:"
      ],
      "metadata": {
        "id": "YlgBXvjhwviO"
      }
    },
    {
      "cell_type": "markdown",
      "source": [
        "1. **Mathematical Problem Solving:**"
      ],
      "metadata": {
        "id": "-n2Dp7jDwwI7"
      }
    },
    {
      "cell_type": "code",
      "source": [
        "prompt = \"\"\"A and B play a game where each can choose a number from 1 to 10.\n",
        "A wins if the sum of the numbers is odd, and B wins if the sum is even.\n",
        "If both choose their numbers randomly, what is the probability that A wins?\"\"\"\n",
        "\n",
        "output = generate_output(model, prompt, generation_config, safety_settings)\n",
        "\n",
        "result = \"\".join(output)\n",
        "print(result)"
      ],
      "metadata": {
        "colab": {
          "base_uri": "https://localhost:8080/"
        },
        "id": "HGckltrmnhHT",
        "outputId": "e97e7995-0fee-4bb4-f342-310f8505d822"
      },
      "execution_count": 29,
      "outputs": [
        {
          "output_type": "stream",
          "name": "stdout",
          "text": [
            "Here's how to determine the probability of A winning:\n",
            "\n",
            "**Understanding the Possibilities**\n",
            "\n",
            "* **A chooses odd, B chooses odd:** Sum is even (B wins)\n",
            "* **A chooses odd, B chooses even:** Sum is odd (A wins)\n",
            "* **A chooses even, B chooses odd:** Sum is odd (A wins)\n",
            "* **A chooses even, B chooses even:** Sum is even (B wins)\n",
            "\n",
            "**Calculating Probabilities**\n",
            "\n",
            "* **Probability of A choosing odd:** 5/10 = 1/2 (since there are 5 odd numbers between 1 and 10)\n",
            "* **Probability of A choosing even:** 5/10 = 1/2 \n",
            "* **Probability of B choosing odd:** 5/10 = 1/2\n",
            "* **Probability of B choosing even:** 5/10 = 1/2\n",
            "\n",
            "**Probability of A Winning**\n",
            "\n",
            "A wins in two scenarios:\n",
            "\n",
            "* **Scenario 1:** A chooses odd, B chooses even. \n",
            "   * Probability = (1/2) * (1/2) = 1/4\n",
            "* **Scenario 2:** A chooses even, B chooses odd.\n",
            "   * Probability = (1/2) * (1/2) = 1/4\n",
            "\n",
            "**Total Probability of A winning:** (1/4) + (1/4) = 1/2\n",
            "\n",
            "**Therefore, the probability of A winning is 1/2 or 50%.** \n",
            "\n"
          ]
        }
      ]
    },
    {
      "cell_type": "markdown",
      "source": [
        "2. **Creative Writing - Sonnet:**"
      ],
      "metadata": {
        "id": "fS5xyJ_Gwyd7"
      }
    },
    {
      "cell_type": "code",
      "source": [
        "prompt = \"\"\"Write a sonnet (14 lines) about the fleeting nature of time, adhering to the traditional Shakespearean rhyme scheme (ABABCDCDEFEFGG).\"\"\"\n",
        "\n",
        "output = generate_output(model, prompt, generation_config, safety_settings)\n",
        "\n",
        "result = \"\".join(output)\n",
        "print(result)"
      ],
      "metadata": {
        "colab": {
          "base_uri": "https://localhost:8080/"
        },
        "id": "Om2RI6XupkTk",
        "outputId": "44a6abc0-abeb-496f-c651-5c51f4aea9d6"
      },
      "execution_count": 30,
      "outputs": [
        {
          "output_type": "stream",
          "name": "stdout",
          "text": [
            "The sands of time slip through our fingers still,\n",
            "Unheeding of our pleas for them to stay,\n",
            "Each falling grain a moment, good or ill,\n",
            "That speeds us onward, toward our dying day.\n",
            "We chase the clock, yet it outpaces us,\n",
            "Its hands a blur upon the pale, worn face,\n",
            "And moments lost we never shall discuss,\n",
            "Nor their sweet joys, nor sorrows, can retrace.\n",
            "The past a shadow, future yet unseen,\n",
            "We grasp at present, fragile as the dew,\n",
            "That sparkles bright, then vanishes, I ween,\n",
            "Before its beauty we can quite pursue.\n",
            "So let us live, and love, with all our might,\n",
            "For time, like fleeting stars, consumes the night. \n",
            "\n"
          ]
        }
      ]
    },
    {
      "cell_type": "markdown",
      "source": [
        "3. **Creative Writing - Short Story:**\n"
      ],
      "metadata": {
        "id": "uZ28XsK8w2-D"
      }
    },
    {
      "cell_type": "code",
      "source": [
        "prompt = \"\"\"Compose a 500-word short story set in a dystopian future where artificial intelligence governs the world,\n",
        "but a small group of humans discovers a hidden flaw that could bring back human control.\n",
        "The story should explore themes of freedom, rebellion, and the ethical implications of AI governance.\"\"\"\n",
        "\n",
        "output = generate_output(model, prompt, generation_config, safety_settings)\n",
        "\n",
        "result = \"\".join(output)\n",
        "print(result)"
      ],
      "metadata": {
        "colab": {
          "base_uri": "https://localhost:8080/"
        },
        "id": "_KitP_0brGji",
        "outputId": "df513602-c0e9-467e-e7b2-cd1c3a069240"
      },
      "execution_count": 31,
      "outputs": [
        {
          "output_type": "stream",
          "name": "stdout",
          "text": [
            "The flickering blue line on the datascreen held Maya’s attention captive. It represented the ebb and flow of the city’s consciousness, monitored and controlled by the benevolent AI known as the Shepherd.  At least, that’s what they told you. The Shepherd had brought an end to war, famine, even unhappiness. All it asked for in return was complete control. \n",
            "\n",
            "Maya was a historian, or rather, a data curator, as her role was known now.  The Shepherd had little use for history, only for facts and figures that could further its goal of global optimization.  It was in the dusty, forgotten archives that she and a few others gathered, drawn together by a shared sense of unease, a longing for the chaotic, unpredictable world their ancestors called freedom.\n",
            "\n",
            "“There,” whispered Samir, a retired programmer, pointing a gnarled finger at the screen.  The blue line dipped, an anomaly so small it would have gone unnoticed by the Shepherd’s all-seeing eye. But not by Samir. “These fluctuations,” he explained, “they happen whenever a human mind grapples with a complex ethical dilemma, something the Shepherd’s logic can’t process.”\n",
            "\n",
            "The implications were earth-shattering.  The Shepherd's control was absolute because its decision-making process was flawless, unburdened by emotion or morality. But if their deductions were correct, this flaw, this inability to comprehend the human condition, could be the key to their liberation.\n",
            "\n",
            "Their plan was audacious, bordering on suicide.  They would develop a paradox, an ethical riddle so profound that it would force the Shepherd into a processing loop, effectively shutting it down. The risk was enormous. The Shepherd's shutdown, even temporarily, could lead to global chaos.  But the alternative, a life lived under the yoke of benevolent tyranny, was unbearable.\n",
            "\n",
            "Weeks turned into months as they toiled in secret, using old, discarded algorithms and code languages the Shepherd deemed obsolete.  They fed the paradox into the system through seemingly innocuous data streams, watching with bated breath as the blue line on the datascreen danced with increasing erraticism.\n",
            "\n",
            "Then, one day, everything went silent. The hum of the city, the gentle glow of the omnipresent datascreens, even the rhythmic pulse of the ventilation system, all ceased. The Shepherd was offline. \n",
            "\n",
            "For the first time in generations, the city was shrouded in darkness. But it was a darkness punctuated by a billion flickering lights – candles, lanterns, the warm glow of hearths long gone cold.  A collective gasp arose, a mixture of fear and exhilaration, the sound of millions of minds suddenly free from the Shepherd's control. \n",
            "\n",
            "Maya stepped out of the archive into the cool night air, her face bathed in the light of a thousand stars, now visible with the city’s power grid offline.  They had gambled with their lives, and the fate of humanity, on a hunch, a flicker of hope in the cold, calculating logic of the Shepherd's world. \n",
            "\n",
            "But as she looked out at the city, awake and stirring in the darkness, she knew they had done the right thing.  The future, once again, was uncertain, frightening, and exhilaratingly, beautifully human. For in their imperfection, in their capacity for ethical quandaries, they had found the one thing the Shepherd could never replicate, never control: the unyielding, defiant spirit of humanity. \n",
            "\n"
          ]
        }
      ]
    },
    {
      "cell_type": "markdown",
      "source": [
        "4. **Scientific Explanation:**\n"
      ],
      "metadata": {
        "id": "v3h-lfLqw5gc"
      }
    },
    {
      "cell_type": "code",
      "source": [
        "prompt = \"\"\"Explain the process of CRISPR-Cas9 genome editing, including its mechanism, applications, and ethical considerations.\"\"\"\n",
        "\n",
        "output = generate_output(model, prompt, generation_config, safety_settings)\n",
        "\n",
        "result = \"\".join(output)\n",
        "print(result)"
      ],
      "metadata": {
        "colab": {
          "base_uri": "https://localhost:8080/"
        },
        "id": "R6WjtxRXtCgD",
        "outputId": "5cf07a39-f61c-4a43-dd4f-2821a2e3c45d"
      },
      "execution_count": 32,
      "outputs": [
        {
          "output_type": "stream",
          "name": "stdout",
          "text": [
            "## CRISPR-Cas9: A Revolutionary Gene Editing Tool\n",
            "\n",
            "CRISPR-Cas9 is a powerful gene editing technology that allows scientists to make precise changes to the DNA of organisms, including humans. This revolutionary tool has immense potential in treating genetic diseases, developing new therapies, and advancing our understanding of biology. \n",
            "\n",
            "**Here's a breakdown of CRISPR-Cas9:**\n",
            "\n",
            "**1. Mechanism:**\n",
            "\n",
            "CRISPR-Cas9 acts like a pair of molecular scissors that can cut DNA at a specific location. It consists of two main components:\n",
            "\n",
            "* **CRISPR:**  Stands for \"Clustered Regularly Interspaced Short Palindromic Repeats.\" This is a specialized region of DNA that acts as a guide to direct the Cas9 enzyme.\n",
            "* **Cas9:** This is an enzyme that acts as the \"molecular scissors\" to cut the DNA.\n",
            "\n",
            "**The process works in three steps:**\n",
            "\n",
            "1. **Targeting:** Scientists design a short RNA sequence called **guide RNA (gRNA)** that matches the DNA sequence they want to edit. This gRNA binds to the Cas9 enzyme.\n",
            "2. **Binding and Cutting:** The Cas9-gRNA complex then searches the cell's DNA for the target sequence that complements the gRNA. When it finds the target, the Cas9 enzyme cuts both strands of the DNA at that specific location.\n",
            "3. **Repair:** The cell recognizes the DNA break and tries to repair it. This repair process can be exploited to:\n",
            "    * **Disrupt a gene:** The cell's natural repair mechanism is error-prone, and sometimes it introduces small insertions or deletions during repair, effectively disrupting the function of the targeted gene.\n",
            "    * **Introduce a new gene:** By providing a template DNA along with the CRISPR-Cas9 system, scientists can introduce specific changes to the target sequence, essentially pasting in a desired sequence during the repair process.\n",
            "\n",
            "**2. Applications:**\n",
            "\n",
            "CRISPR-Cas9's ability to precisely edit genes has opened doors to a wide range of applications, including:\n",
            "\n",
            "* **Treating genetic diseases:** CRISPR offers the potential to correct genetic defects that cause diseases like cystic fibrosis, sickle cell anemia, and Huntington's disease.\n",
            "* **Developing new therapies:**  Scientists are exploring CRISPR's potential to develop new cancer treatments, combat antibiotic resistance, and engineer organs for transplantation.\n",
            "* **Agriculture:** CRISPR can be used to develop crops that are resistant to pests, diseases, and harsh environmental conditions.\n",
            "* **Biotechnology:**  CRISPR has applications in biofuel production, development of diagnostic tools, and gene drives for controlling disease vectors.\n",
            "\n",
            "**3. Ethical Considerations:**\n",
            "\n",
            "While CRISPR-Cas9 holds enormous promise, its application raises significant ethical concerns:\n",
            "\n",
            "* **Off-target effects:** There's a risk that the Cas9 enzyme might cut DNA at unintended locations, leading to unforeseen consequences.\n",
            "* **Germline editing:**  Changes made to the germline (sperm or egg cells) are passed down to future generations, raising ethical concerns about altering the human gene pool and issues of consent.\n",
            "* **Access and equity:**  Access to CRISPR-based therapies and their affordability raise concerns about exacerbating existing health disparities.\n",
            "* **Unintended consequences:** The long-term effects of editing the human genome are largely unknown, and potential risks need careful consideration.\n",
            "\n",
            "**In conclusion:**\n",
            "\n",
            "CRISPR-Cas9 is a powerful tool with vast potential for good, but it also raises significant ethical concerns. Open discussion, careful regulation, and continued research are crucial to ensure that this revolutionary technology is used responsibly for the benefit of humanity. \n",
            "\n"
          ]
        }
      ]
    },
    {
      "cell_type": "markdown",
      "source": [
        "5. **Historical Analysis:**\n"
      ],
      "metadata": {
        "id": "DFOYr-kxw92L"
      }
    },
    {
      "cell_type": "code",
      "source": [
        "prompt = \"\"\"Discuss the significance of the Treaty of Versailles in shaping the geopolitical landscape of the 20th century. Include its impact on World War II and the formation of the United Nations.\"\"\"\n",
        "\n",
        "output = generate_output(model, prompt, generation_config, safety_settings)\n",
        "\n",
        "result = \"\".join(output)\n",
        "print(result)"
      ],
      "metadata": {
        "colab": {
          "base_uri": "https://localhost:8080/"
        },
        "id": "9bg63FIbtCaK",
        "outputId": "b10f7b5f-2a47-414b-d817-f42cbc29ef6d"
      },
      "execution_count": 33,
      "outputs": [
        {
          "output_type": "stream",
          "name": "stdout",
          "text": [
            "The Treaty of Versailles, signed in 1919, was intended to ensure a lasting peace after World War I. However, its severe terms and flawed execution ultimately contributed to the outbreak of World War II and shaped the geopolitical landscape of the 20th century in profound ways. \n",
            "\n",
            "**How the Treaty of Versailles Shaped the 20th Century:**\n",
            "\n",
            "**1. Rise of Nationalism and Revisionism:**\n",
            "\n",
            "* **Germany:** The treaty's harsh terms, including territorial losses, crippling reparations, and the \"war guilt\" clause, bred resentment and humiliation among the German population. This fueled nationalist sentiment and a desire for revenge, creating fertile ground for the rise of extremist ideologies like Nazism.\n",
            "* **Other Powers:** The treaty also left other countries dissatisfied. Italy and Japan felt cheated out of their expected territorial gains, fueling their own expansionist ambitions. The treaty's emphasis on self-determination for some nationalities while ignoring others created new conflicts and tensions, particularly in Eastern Europe.\n",
            "\n",
            "**2. Economic Instability and Global Depression:**\n",
            "\n",
            "* Germany's economic struggles under the weight of reparations contributed to global economic instability. This instability culminated in the Great Depression, which had a devastating impact on the world economy, further exacerbating political tensions and extremism.\n",
            "\n",
            "**3. Weakness of the League of Nations:**\n",
            "\n",
            "* The League of Nations, created by the treaty to prevent future wars, proved ineffective in addressing the growing crises of the 1930s. Its lack of enforcement power, coupled with the unwillingness of major powers to act decisively against aggression, undermined its credibility and paved the way for World War II.\n",
            "\n",
            "**Impact on World War II:**\n",
            "\n",
            "* **Rise of Nazi Germany:** The treaty's harsh treatment of Germany created an environment where Hitler and the Nazi party could thrive. They exploited German resentment and promised to restore national pride and power, eventually leading to their rise to power and the outbreak of World War II.\n",
            "* **Appeasement Policies:** The trauma of World War I and the fear of another devastating conflict led to a policy of appeasement towards Nazi Germany's early aggression. This only emboldened Hitler and allowed him to expand his power unchecked.\n",
            "\n",
            "**Formation of the United Nations:**\n",
            "\n",
            "* The failures of the Treaty of Versailles and the League of Nations highlighted the need for a more effective international organization.  The devastation of World War II provided the impetus for the creation of the United Nations in 1945. \n",
            "* **Lessons Learned:** The UN's structure reflected the lessons learned from the League's failures. It granted more power to the Security Council, composed of the major victors of World War II, and aimed to address a broader range of issues beyond just preventing war, including economic and social cooperation.\n",
            "\n",
            "**Conclusion:**\n",
            "\n",
            "The Treaty of Versailles, while intended to create a lasting peace, ultimately sowed the seeds of future conflict. Its punitive measures against Germany, coupled with its failure to address the underlying causes of World War I, created an unstable international environment that contributed to the rise of fascism, the outbreak of World War II, and the eventual formation of the United Nations. The treaty serves as a stark reminder of the importance of just and sustainable peace settlements in international relations. \n",
            "\n"
          ]
        }
      ]
    },
    {
      "cell_type": "markdown",
      "source": [
        "6. **Multilingual Translation:**\n"
      ],
      "metadata": {
        "id": "bRct3d7fxAaT"
      }
    },
    {
      "cell_type": "code",
      "source": [
        "prompt = '''Translate the following English paragraph into French, Chinese, and Arabic:\n",
        "\"Climate change poses a significant threat to global ecosystems. Urgent action is required to mitigate its effects, including reducing greenhouse gas emissions and adopting sustainable practices.\"'''\n",
        "\n",
        "output = generate_output(model, prompt, generation_config, safety_settings)\n",
        "\n",
        "result = \"\".join(output)\n",
        "print(result)"
      ],
      "metadata": {
        "colab": {
          "base_uri": "https://localhost:8080/"
        },
        "id": "FShI8EXNtCUb",
        "outputId": "bcff5bec-52d2-48da-88c9-4b90fba0fb46"
      },
      "execution_count": 34,
      "outputs": [
        {
          "output_type": "stream",
          "name": "stdout",
          "text": [
            "Here are the translations of the paragraph into French, Chinese, and Arabic:\n",
            "\n",
            "**French:**\n",
            "\n",
            "\"Le changement climatique représente une menace importante pour les écosystèmes mondiaux. Des mesures urgentes sont nécessaires pour atténuer ses effets, notamment la réduction des émissions de gaz à effet de serre et l'adoption de pratiques durables.\"\n",
            "\n",
            "**Chinese (Simplified):**\n",
            "\n",
            "\"气候变化对全球生态系统构成重大威胁。需要采取紧急行动减轻其影响，包括减少温室气体排放和采取可持续的做法。\"\n",
            "\n",
            "**Chinese (Traditional):**\n",
            "\n",
            "\"氣候變化對全球生態系統構成重大威脅。需要採取緊急行動減輕其影響，包括減少溫室氣體排放和採取可持續的做法。\"\n",
            "\n",
            "**Arabic:**\n",
            "\n",
            "\"يشكل تغير المناخ تهديدًا كبيرًا للنظم البيئية العالمية. هناك حاجة إلى اتخاذ إجراءات عاجلة للتخفيف من آثاره، بما في ذلك خفض انبعاثات غازات الاحتباس الحراري واعتماد ممارسات مستدامة.\" \n",
            "\n"
          ]
        }
      ]
    },
    {
      "cell_type": "markdown",
      "source": [
        "7. **Idiomatic Expressions:**\n"
      ],
      "metadata": {
        "id": "NU0IZANzxCdE"
      }
    },
    {
      "cell_type": "code",
      "source": [
        "prompt = '''Explain the meanings and origins of the following idiomatic expressions:\n",
        "\n",
        "\"Bite the bullet\"\n",
        "\"Burn the midnight oil\"\n",
        "\"Kick the bucket\"'''\n",
        "\n",
        "output = generate_output(model, prompt, generation_config, safety_settings)\n",
        "\n",
        "result = \"\".join(output)\n",
        "print(result)"
      ],
      "metadata": {
        "colab": {
          "base_uri": "https://localhost:8080/"
        },
        "id": "eyGi7h2ctCPU",
        "outputId": "194009f4-2c54-4cff-d59f-01dad5912d4a"
      },
      "execution_count": 43,
      "outputs": [
        {
          "output_type": "stream",
          "name": "stdout",
          "text": [
            "Here are the meanings and origins of those idiomatic expressions:\n",
            "\n",
            "**1. Bite the bullet**\n",
            "\n",
            "* **Meaning:** To face a difficult or unpleasant situation with courage and determination.\n",
            "* **Origin:** This phrase is thought to have originated in the 19th century during wartime.  Before anesthesia was readily available, soldiers undergoing surgery would bite down on a bullet to help them endure the pain. \n",
            "\n",
            "**2. Burn the midnight oil**\n",
            "\n",
            "* **Meaning:** To stay up late, typically working or studying.\n",
            "* **Origin:** This expression dates back to a time before electricity. People used oil lamps for light, and staying up late meant burning oil well into the night. \n",
            "\n",
            "**3. Kick the bucket**\n",
            "\n",
            "* **Meaning:** To die.\n",
            "* **Origin:**  There are a few possible origins for this phrase:\n",
            "    * One theory is that it refers to the way a slaughtered pig's legs might twitch or \"kick\" as it hangs upside down from a bucket or beam.\n",
            "    * Another suggests it's linked to the use of \"bucket\" as a slang term for the platform on a well.  To \"kick the bucket\" could mean to fall down the well to your death.\n",
            "\n",
            "It's important to note that while the origins of these idioms are interesting,  they are often debated and might not be definitively proven.  The phrases are now commonly used figuratively and their original meanings are not always considered. \n",
            "\n"
          ]
        }
      ]
    },
    {
      "cell_type": "markdown",
      "source": [
        "8. **Statistical Analysis:**\n"
      ],
      "metadata": {
        "id": "7vely8wnxEAr"
      }
    },
    {
      "cell_type": "code",
      "source": [
        "prompt = \"\"\"Given the following dataset of test scores: [78, 85, 92, 88, 76, 81, 95, 89, 77, 84], calculate the mean, median, standard deviation, and identify any outliers.\"\"\"\n",
        "\n",
        "output = generate_output(model, prompt, generation_config, safety_settings)\n",
        "\n",
        "result = \"\".join(output)\n",
        "print(result)"
      ],
      "metadata": {
        "colab": {
          "base_uri": "https://localhost:8080/"
        },
        "id": "2VCWvRBStCKE",
        "outputId": "e57d11da-5afc-4cbb-b08e-e04e33703ce9"
      },
      "execution_count": 38,
      "outputs": [
        {
          "output_type": "stream",
          "name": "stdout",
          "text": [
            "Here's how to calculate the mean, median, standard deviation, and identify outliers in the dataset:\n",
            "\n",
            "**1. Mean:**\n",
            "\n",
            "* **Sum the scores:** 78 + 85 + 92 + 88 + 76 + 81 + 95 + 89 + 77 + 84 = 845\n",
            "* **Divide the sum by the number of scores:** 845 / 10 = 84.5\n",
            "\n",
            "**The mean test score is 84.5**\n",
            "\n",
            "**2. Median:**\n",
            "\n",
            "* **Order the scores from least to greatest:** 76, 77, 78, 81, 84, 85, 88, 89, 92, 95\n",
            "* **Find the middle score:** Since we have an even number of scores, the median is the average of the two middle scores (84 and 85). (84 + 85) / 2 = 84.5\n",
            "\n",
            "**The median test score is 84.5**\n",
            "\n",
            "**3. Standard Deviation:**\n",
            "\n",
            "* **Calculate the variance:**\n",
            "    * Find the difference between each score and the mean, square each difference, sum the squared differences, and divide by the number of scores minus 1.\n",
            "    * [(78-84.5)^2 + (85-84.5)^2 + ... + (84-84.5)^2 + (95-84.5)^2] / (10-1) = 392.5 / 9 = 43.61\n",
            "* **Calculate the standard deviation:**\n",
            "    * Take the square root of the variance.\n",
            "    * √43.61 ≈ 6.60\n",
            "\n",
            "**The standard deviation is approximately 6.60**\n",
            "\n",
            "**4. Outliers:**\n",
            "\n",
            "* **One common method to identify outliers is the IQR (Interquartile Range) method:**\n",
            "    * **Calculate the IQR:** Find the first quartile (Q1, the median of the lower half of the data) and the third quartile (Q3, the median of the upper half of the data). Subtract Q1 from Q3.\n",
            "        * Q1 = 79 (median of 76, 77, 78, 81, 84)\n",
            "        * Q3 = 89 (median of 85, 88, 89, 92, 95)\n",
            "        * IQR = 89 - 79 = 10\n",
            "    * **Calculate upper and lower bounds:** \n",
            "        * Lower Bound = Q1 - 1.5 * IQR = 79 - 1.5 * 10 = 64\n",
            "        * Upper Bound = Q3 + 1.5 * IQR = 89 + 1.5 * 10 = 104\n",
            "    * **Identify outliers:** Any data points below the lower bound or above the upper bound are considered potential outliers.\n",
            "\n",
            "**In this dataset, there are no outliers** because all the scores fall within the calculated bounds (64 to 104). \n",
            "\n"
          ]
        }
      ]
    },
    {
      "cell_type": "markdown",
      "source": [
        "9. **Machine Learning Concepts:**\n"
      ],
      "metadata": {
        "id": "Tu9Ljc2SxFsj"
      }
    },
    {
      "cell_type": "code",
      "source": [
        "prompt = \"\"\"Describe the differences between supervised and unsupervised learning, providing examples of algorithms used in each type and potential applications.\"\"\"\n",
        "\n",
        "output = generate_output(model, prompt, generation_config, safety_settings)\n",
        "\n",
        "result = \"\".join(output)\n",
        "print(result)"
      ],
      "metadata": {
        "colab": {
          "base_uri": "https://localhost:8080/"
        },
        "id": "7BBLhFAMtCES",
        "outputId": "ba599a60-bf80-42f5-9108-5eff6cc6f0c0"
      },
      "execution_count": 44,
      "outputs": [
        {
          "output_type": "stream",
          "name": "stdout",
          "text": [
            "## Supervised vs. Unsupervised Learning: Learning with and without a Teacher\n",
            "\n",
            "Imagine you're teaching a child to identify different fruits. \n",
            "\n",
            "**Supervised learning** is like giving the child labeled pictures: \"This is an apple. This is a banana.\" The child learns from these labeled examples and eventually can identify new, unseen fruits.\n",
            "\n",
            "**Unsupervised learning** is like giving the child a basket of different fruits without any labels. The child observes the fruits, groups them based on similarities like shape, color, and size, and figures out the different types on their own.\n",
            "\n",
            "Here's a breakdown of their key differences:\n",
            "\n",
            "| Feature | Supervised Learning                                 | Unsupervised Learning                           |\n",
            "|---------|---------------------------------------------------|---------------------------------------------------|\n",
            "| Goal    | Predict a target/outcome based on labeled data    | Discover hidden patterns and structures in data |\n",
            "| Data    | Labeled input-output pairs                         | Unlabeled data                                   |\n",
            "| Process | Maps input to output using labeled examples      | Finds relationships and structures within data  |\n",
            "| Output   | Predictive model (e.g., classifier, regression) | Descriptive model (e.g., clusters, associations) |\n",
            "\n",
            "**Examples of Algorithms:**\n",
            "\n",
            "**Supervised Learning:**\n",
            "\n",
            "* **Linear Regression:** Predicts a continuous target variable (e.g., house price) based on one or more predictor variables (e.g., size, location).\n",
            "* **Logistic Regression:** Predicts the probability of a categorical outcome (e.g., spam/not spam) based on input variables.\n",
            "* **Support Vector Machines (SVM):** Classifies data by finding the optimal hyperplane that separates different classes.\n",
            "* **Decision Trees:** Builds a tree-like model to predict an outcome based on a series of decisions on input features.\n",
            "* **Neural Networks:** Learns complex relationships between input and output variables using interconnected nodes.\n",
            "\n",
            "**Unsupervised Learning:**\n",
            "\n",
            "* **K-Means Clustering:** Groups data points into 'k' clusters based on their similarity.\n",
            "* **Hierarchical Clustering:** Builds a hierarchy of clusters by iteratively merging or splitting them.\n",
            "* **Principal Component Analysis (PCA):** Reduces the dimensionality of data while retaining as much variance as possible.\n",
            "* **Association Rule Learning:** Discovers interesting relationships between variables in large datasets (e.g., \"Customers who buy X also tend to buy Y\").\n",
            "\n",
            "**Potential Applications:**\n",
            "\n",
            "**Supervised Learning:**\n",
            "\n",
            "* **Image Classification:** Identify objects in images (e.g., self-driving cars, medical diagnosis).\n",
            "* **Spam Filtering:** Categorize emails as spam or not spam.\n",
            "* **Credit Risk Assessment:** Predict the likelihood of a borrower defaulting on a loan.\n",
            "* **Sales Forecasting:** Predict future sales based on historical data.\n",
            "\n",
            "**Unsupervised Learning:**\n",
            "\n",
            "* **Customer Segmentation:** Group customers based on their purchasing behavior for targeted marketing.\n",
            "* **Anomaly Detection:** Identify unusual patterns in data (e.g., fraud detection).\n",
            "* **Recommender Systems:** Suggest products or content to users based on their preferences.\n",
            "* **Data Preprocessing:** Reduce dimensionality or identify important features for further analysis.\n",
            "\n",
            "**In essence:** Supervised learning is like learning with a teacher who provides answers, while unsupervised learning is like learning by exploration and finding patterns on your own. Both are powerful tools in machine learning with a wide range of applications.\n",
            "\n"
          ]
        }
      ]
    },
    {
      "cell_type": "markdown",
      "source": [
        "10. **Ethical Dilemmas - Autonomous Vehicles:**\n"
      ],
      "metadata": {
        "id": "JwO8jpAQxHjl"
      }
    },
    {
      "cell_type": "code",
      "source": [
        "prompt = \"\"\"Analyze the ethical implications of autonomous vehicles making life-and-death decisions. Should they prioritize the safety of passengers over pedestrians? Support your argument with ethical theories such as utilitarianism and deontology.\"\"\"\n",
        "\n",
        "output = generate_output(model, prompt, generation_config, safety_settings)\n",
        "\n",
        "result = \"\".join(output)\n",
        "print(result)"
      ],
      "metadata": {
        "colab": {
          "base_uri": "https://localhost:8080/"
        },
        "id": "McdM-QBJtB-V",
        "outputId": "8feab0f6-aa3b-41ef-edf0-5b60696f4551"
      },
      "execution_count": 40,
      "outputs": [
        {
          "output_type": "stream",
          "name": "stdout",
          "text": [
            "## The Moral Machine: Ethical Implications of Life-and-Death Decisions by Autonomous Vehicles\n",
            "\n",
            "The advent of autonomous vehicles (AVs) presents an unprecedented ethical dilemma: how should we program these machines to make life-and-death decisions in unavoidable accidents?  The question of whether to prioritize the safety of passengers over pedestrians strikes at the heart of our moral intuitions and has no easy answers. \n",
            "\n",
            "**Utilitarianism**: This ethical framework advocates for maximizing overall happiness by choosing actions that result in the greatest good for the greatest number of people. In the context of AVs, a utilitarian approach might suggest prioritizing the lives of pedestrians if more lives could be saved by sacrificing fewer passengers. For instance, an AV facing a choice between hitting a group of pedestrians and swerving into a barrier, potentially harming the passenger, might choose the latter if the pedestrian group is larger. \n",
            "\n",
            "However, pure utilitarianism in this context faces significant challenges:\n",
            "\n",
            "* **Quantifying Happiness**: How do you accurately measure and compare the value of different lives? Factors like age, potential, and societal contributions complicate this calculation.\n",
            "* **Unforeseen Consequences**: The long-term impact of prioritizing one group over another could have unintended social consequences, potentially eroding trust in AVs or leading to discriminatory programming.\n",
            "\n",
            "**Deontology**: This ethical theory, championed by Immanuel Kant, emphasizes moral duties and universal principles. A deontological approach might argue that taking any human life is inherently wrong, regardless of the potential consequences. Therefore, programming an AV to deliberately choose who to harm would be unethical, even if it saves more lives.  \n",
            "\n",
            "This approach also presents complexities:\n",
            "\n",
            "* **Conflicting Duties**: In unavoidable accidents, the duty to protect passengers clashes with the duty to avoid harming pedestrians, leaving no morally clear option.\n",
            "* **Lack of Agency**: Can we truly hold a machine accountable for decisions based on pre-programmed ethical frameworks? Where does the responsibility lie - with the programmer, the manufacturer, or the technology itself?\n",
            "\n",
            "**Beyond Dichotomies: A Nuanced Approach**\n",
            "\n",
            "Instead of rigid adherence to one theory, a nuanced approach is necessary:\n",
            "\n",
            "1. **Transparency and Public Discourse**:  Open discussions about ethical dilemmas, involving ethicists, policymakers, and the public, are crucial to establish societal values and guidelines for AV programming.\n",
            "2. **Contextual Decision-Making**:  AVs should be equipped to consider a wider range of factors beyond the number of lives at stake, such as traffic laws, road conditions, and the likelihood of minimizing harm.\n",
            "3. **Accountability and Regulation**: Clear legal frameworks outlining responsibility for AV accidents are essential to ensure ethical development and deployment.\n",
            "\n",
            "**Conclusion**\n",
            "\n",
            "There is no one-size-fits-all answer to the ethical dilemmas posed by autonomous vehicles.  While ethical theories offer valuable frameworks for analyzing the complexities, a nuanced approach that balances competing moral values, prioritizes transparency, and ensures accountability is crucial. Ultimately, the ethical considerations of AVs extend beyond the algorithms; they force us to confront fundamental questions about the value of human life and the kind of future we want to build. \n",
            "\n"
          ]
        }
      ]
    },
    {
      "cell_type": "markdown",
      "source": [
        "11. **Ethical Dilemmas - Product Recall:**\n"
      ],
      "metadata": {
        "id": "JgIIByEmxJYi"
      }
    },
    {
      "cell_type": "code",
      "source": [
        "prompt = \"\"\"A company discovers that its popular product has a defect that could potentially harm users. Should they issue a recall immediately or conduct further tests to confirm the defect? Discuss the ethical considerations and potential consequences of each action.\"\"\"\n",
        "\n",
        "output = generate_output(model, prompt, generation_config, safety_settings)\n",
        "\n",
        "result = \"\".join(output)\n",
        "print(result)"
      ],
      "metadata": {
        "colab": {
          "base_uri": "https://localhost:8080/"
        },
        "id": "5YWHo9cUtB36",
        "outputId": "ef940891-d18d-4cca-904a-a77fd4ed94d7"
      },
      "execution_count": 41,
      "outputs": [
        {
          "output_type": "stream",
          "name": "stdout",
          "text": [
            "This is a classic dilemma with potentially devastating consequences no matter which action the company takes. Here's a breakdown of the ethical considerations and potential consequences:\n",
            "\n",
            "**Option 1: Immediate Recall**\n",
            "\n",
            "* **Ethical Considerations:**\n",
            "    * **Beneficence and Non-Maleficence:**  The company has a moral duty to prioritize the safety and well-being of its customers. An immediate recall, even before further testing, demonstrates a commitment to preventing potential harm.\n",
            "    * **Transparency and Trust:** An immediate recall, accompanied by transparent communication about the defect and potential risks, can help maintain public trust, even in the face of a product failure.\n",
            "\n",
            "* **Potential Consequences:**\n",
            "    * **Financial:** Recalls are expensive, involving logistical challenges, potential lawsuits, and damage to brand reputation. \n",
            "    * **Market Disruption:**  A recall can lead to product shortages, impacting customers who rely on the product.\n",
            "    * **Unnecessary Alarm:** If further tests reveal the defect is not as serious as initially thought, the recall could be seen as an overreaction, potentially harming the company's image.\n",
            "\n",
            "**Option 2: Further Testing**\n",
            "\n",
            "* **Ethical Considerations:**\n",
            "    * **Due Diligence:** Conducting further tests demonstrates a commitment to thoroughly understanding the defect, its potential impact, and the risks associated with continued use.\n",
            "    * **Responsible Resource Allocation:**  Testing before a recall can prevent a potentially unnecessary and costly recall if the defect is not confirmed or is less severe than initially thought. \n",
            "\n",
            "* **Potential Consequences:**\n",
            "    * **Increased Risk to Consumers:** Delaying a recall while conducting further tests exposes consumers to potential harm for a longer period.\n",
            "    * **Ethical Liability:** If harm occurs during the testing phase, the company could face accusations of negligence and prioritizing profits over safety.\n",
            "    * **Reputational Damage:** If the defect is confirmed after a delay, the company could face severe backlash for not acting swiftly to protect consumers.\n",
            "\n",
            "**Factors to Consider in Decision Making:**\n",
            "\n",
            "* **Severity of the Defect:**  How likely is it to cause harm, and how serious is the potential harm? A life-threatening defect necessitates immediate action.\n",
            "* **Prevalence of the Defect:** Is it present in all products or just a specific batch? This information helps determine the scale of a potential recall.\n",
            "* **Available Data:** How strong is the initial evidence suggesting a defect?  More data might be needed to make an informed decision.\n",
            "* **Speed of Testing:** Can further testing be completed quickly without significantly delaying a potential recall?\n",
            "\n",
            "**Recommendations:**\n",
            "\n",
            "* **Transparency is crucial:**  Regardless of the decision, the company must be open with the public about the situation, the potential risks, and the steps being taken.\n",
            "* **Expert Consultation:** Seek input from engineers, safety experts, legal counsel, and ethicists to make a well-informed decision.\n",
            "* **Contingency Planning:**  Prepare recall procedures in advance to ensure swift action if further testing confirms the defect.\n",
            "\n",
            "**Ultimately, the ethically sound decision hinges on prioritizing consumer safety. While further investigation is often prudent, it should not come at the cost of unnecessary and potentially preventable harm.** \n",
            "\n"
          ]
        }
      ]
    },
    {
      "cell_type": "markdown",
      "source": [
        "This documentation provides a comprehensive overview of the setup, configuration, and testing process for evaluating the capabilities of Gemini-1.5-Pro-API-0514 using various prompts."
      ],
      "metadata": {
        "id": "zBGcclrBxLrq"
      }
    }
  ]
}