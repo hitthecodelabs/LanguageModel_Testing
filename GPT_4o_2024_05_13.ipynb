{
  "nbformat": 4,
  "nbformat_minor": 0,
  "metadata": {
    "colab": {
      "provenance": []
    },
    "kernelspec": {
      "name": "python3",
      "display_name": "Python 3"
    },
    "language_info": {
      "name": "python"
    }
  },
  "cells": [
    {
      "cell_type": "markdown",
      "source": [
        "# Model Testing Implementation\n",
        "\n",
        "This project tests the capabilities of a large language model using various prompts. The model used is `gpt-4o-2024-05-13` from OpenAI. The tests include mathematical problem solving, logical reasoning, creative writing, scientific explanations, historical analysis, multilingual translation, idiomatic expression explanations, statistical analysis, machine learning concepts, and ethical dilemmas.\n",
        "\n",
        "## Setup\n",
        "\n",
        "To set up the environment with your Drive account, use the following command:"
      ],
      "metadata": {
        "id": "fDnwL5Z7vKD0"
      }
    },
    {
      "cell_type": "code",
      "execution_count": 26,
      "metadata": {
        "id": "7MRIU_tanJHm",
        "colab": {
          "base_uri": "https://localhost:8080/"
        },
        "outputId": "bb65e86f-7408-4ec3-92a5-7f302d7b52c0"
      },
      "outputs": [
        {
          "output_type": "stream",
          "name": "stdout",
          "text": [
            "/content/drive/your/project/folder\n"
          ]
        }
      ],
      "source": [
        "# Commented out IPython magic to ensure Python compatibility.\n",
        "\n",
        "# %cd /content/drive/MyDrive/htcl/llms"
      ]
    },
    {
      "cell_type": "markdown",
      "source": [
        "## Dependencies\n",
        "\n",
        "Ensure you have the following dependencies installed:\n",
        "\n",
        "- `openai`\n",
        "- `python-dotenv`"
      ],
      "metadata": {
        "id": "Dy2GGU3BwBEF"
      }
    },
    {
      "cell_type": "code",
      "source": [
        "from IPython.display import clear_output\n",
        "\n",
        "!pip install -q openai\n",
        "!pip install -q python-dotenv\n",
        "\n",
        "clear_output()"
      ],
      "metadata": {
        "id": "AqZ7MuFYsFjT"
      },
      "execution_count": 1,
      "outputs": []
    },
    {
      "cell_type": "markdown",
      "source": [
        "## Environment Variables\n",
        "\n",
        "Create a `.env` file to store your OpenAI API key:"
      ],
      "metadata": {
        "id": "LhKlyUEmSXF9"
      }
    },
    {
      "cell_type": "code",
      "source": [
        "# A = open(\".env\", mode='w')\n",
        "# A.write(\"OPENAI_API_KEY=sk-your-api-key\")\n",
        "# A.close()"
      ],
      "metadata": {
        "id": "kRTwQmVfMbWV"
      },
      "execution_count": 3,
      "outputs": []
    },
    {
      "cell_type": "markdown",
      "source": [
        "## Initialization\n",
        "\n",
        "Initialize the OpenAI client:"
      ],
      "metadata": {
        "id": "cjFVbVWhSezP"
      }
    },
    {
      "cell_type": "code",
      "source": [
        "import os, sys\n",
        "from openai import OpenAI\n",
        "\n",
        "from pprint import pprint\n",
        "from dotenv import load_dotenv\n",
        "\n",
        "load_dotenv()\n",
        "\n",
        "client = OpenAI(api_key=os.environ.get(\"OPENAI_API_KEY\"))\n",
        "client"
      ],
      "metadata": {
        "id": "bZM2Q626neay",
        "colab": {
          "base_uri": "https://localhost:8080/"
        },
        "outputId": "110de755-1092-4b8c-95ec-96a3ac9afa06"
      },
      "execution_count": 4,
      "outputs": [
        {
          "output_type": "execute_result",
          "data": {
            "text/plain": [
              "<openai.OpenAI at 0x7ba1c4947e80>"
            ]
          },
          "metadata": {},
          "execution_count": 4
        }
      ]
    },
    {
      "cell_type": "markdown",
      "source": [
        "## Function to Generate Output\n",
        "\n",
        "Define a function to generate output from the model:"
      ],
      "metadata": {
        "id": "aleb-PeawlH2"
      }
    },
    {
      "cell_type": "code",
      "source": [
        "def generate_output(client, prompt):\n",
        "    response = client.chat.completions.create(\n",
        "    # response_format={ \"type\": \"json_object\" },\n",
        "    messages=[{\"role\": \"user\", \"content\": prompt}],\n",
        "    model=\"gpt-4o-2024-05-13\", ### last model\n",
        "    max_tokens=4055,\n",
        "    # temperature=1,\n",
        "    )\n",
        "    return response.choices[0].message.content"
      ],
      "metadata": {
        "id": "ippqQ__gpVJQ"
      },
      "execution_count": 7,
      "outputs": []
    },
    {
      "cell_type": "markdown",
      "source": [
        "## Prompts and Outputs\n",
        "\n",
        "Test the model with various prompts:"
      ],
      "metadata": {
        "id": "YlgBXvjhwviO"
      }
    },
    {
      "cell_type": "markdown",
      "source": [
        "1. **Mathematical Problem Solving:**"
      ],
      "metadata": {
        "id": "-n2Dp7jDwwI7"
      }
    },
    {
      "cell_type": "code",
      "source": [
        "prompt = \"\"\"A and B play a game where each can choose a number from 1 to 10.\n",
        "A wins if the sum of the numbers is odd, and B wins if the sum is even.\n",
        "If both choose their numbers randomly, what is the probability that A wins?\"\"\"\n",
        "\n",
        "output = generate_output(client, prompt)\n",
        "\n",
        "print(output)"
      ],
      "metadata": {
        "colab": {
          "base_uri": "https://localhost:8080/"
        },
        "id": "ipKH8TwKO27D",
        "outputId": "39b3962c-1574-48db-a5ba-b7e8ccdf1ce2"
      },
      "execution_count": 11,
      "outputs": [
        {
          "output_type": "stream",
          "name": "stdout",
          "text": [
            "To determine the probability that A wins the game, we first need to examine the possible outcomes when A and B each choose a number from 1 to 10. A wins if the sum of their chosen numbers is odd, while B wins if the sum is even.\n",
            "\n",
            "### Step-by-Step Analysis:\n",
            "\n",
            "1. **Possible Choices:**\n",
            "   - Both players have 10 possible choices, from 1 to 10.\n",
            "   \n",
            "2. **Nature of Sum:**\n",
            "   - We know the sum of two integers is odd if and only if one of them is even and the other is odd.\n",
            "\n",
            "3. **Counting Cases:**\n",
            "   - Total number of combinations of choices:\n",
            "     \\(10 \\text{ (choices for A)} \\times 10 \\text{ (choices for B)} = 100\\).\n",
            "\n",
            "4. **Classifying Numbers:**\n",
            "   - There are 5 even numbers (2, 4, 6, 8, 10) and 5 odd numbers (1, 3, 5, 7, 9) in the range from 1 to 10.\n",
            "\n",
            "5. **Winning Combinations for A:**\n",
            "   - A wins if one number is odd and the other is even.\n",
            "   - Case 1: A chooses an odd number, and B picks an even number.\n",
            "     - Choices for A: 5 odd numbers.\n",
            "     - Choices for B: 5 even numbers.\n",
            "     - Total combinations = \\(5 \\times 5 = 25\\).\n",
            "   - Case 2: A chooses an even number, and B picks an odd number.\n",
            "     - Choices for A: 5 even numbers.\n",
            "     - Choices for B: 5 odd numbers.\n",
            "     - Total combinations = \\(5 \\times 5 = 25\\).\n",
            "\n",
            "   Combining both cases, total winning combinations for A = \\(25 + 25 = 50\\).\n",
            "\n",
            "6. **Probability Calculation:**\n",
            "   - Probability (P(A wins)) = Number of favorable outcomes for A / Total number of outcomes.\n",
            "   \\[\n",
            "   P(A \\text{ wins}) = \\frac{\\text{Number of winning combinations for A}}{\\text{Total number of combinations}} = \\frac{50}{100} = 0.5\n",
            "   \\]\n",
            "\n",
            "### Conclusion:\n",
            "The probability that A wins the game, given that both players choose their numbers randomly, is \\( \\boxed{0.5} \\). This means that A has a 50% chance of winning if both players select their numbers independently and uniformly at random.\n",
            "\n"
          ]
        }
      ]
    },
    {
      "cell_type": "markdown",
      "source": [
        "2. **Creative Writing - Sonnet:**"
      ],
      "metadata": {
        "id": "fS5xyJ_Gwyd7"
      }
    },
    {
      "cell_type": "code",
      "source": [
        "prompt = \"\"\"Write a sonnet (14 lines) about the fleeting nature of time, adhering to the traditional Shakespearean rhyme scheme (ABABCDCDEFEFGG).\"\"\"\n",
        "\n",
        "output = generate_output(client, prompt)\n",
        "\n",
        "print(output)"
      ],
      "metadata": {
        "colab": {
          "base_uri": "https://localhost:8080/"
        },
        "id": "Om2RI6XupkTk",
        "outputId": "2fdead83-6e69-4aad-afa8-2e404cfa7d91"
      },
      "execution_count": 12,
      "outputs": [
        {
          "output_type": "stream",
          "name": "stdout",
          "text": [
            "As dawn must break with hues of golden fire (A)  \n",
            "And daylight fades to twilight's gentle hue, (B)  \n",
            "So doth the span of life itself expire, (A)  \n",
            "As moments pass like morning's fleeting dew. (B)\n",
            "\n",
            "The clock's relentless hands do ever chase (C)  \n",
            "The shadows that our merry days do cast, (D)  \n",
            "From tender youth, beguiled by fleeting grace, (C)  \n",
            "To wisdom's age, where mem'ries hold us fast. (D)\n",
            "\n",
            "Yet in this race of time we find delight, (E)  \n",
            "In laughter shared and love's enduring kiss; (F)  \n",
            "Although the sun must set into the night, (E)  \n",
            "What beauty lies in moments such as this. (F)\n",
            "\n",
            "So let us cherish every fleeting breath, (G)  \n",
            "For in our hearts, love conquers even death. (G)\n"
          ]
        }
      ]
    },
    {
      "cell_type": "markdown",
      "source": [
        "3. **Creative Writing - Short Story:**\n"
      ],
      "metadata": {
        "id": "uZ28XsK8w2-D"
      }
    },
    {
      "cell_type": "code",
      "source": [
        "prompt = \"\"\"Compose a 500-word short story set in a dystopian future where artificial intelligence governs the world,\n",
        "but a small group of humans discovers a hidden flaw that could bring back human control.\n",
        "The story should explore themes of freedom, rebellion, and the ethical implications of AI governance.\"\"\"\n",
        "\n",
        "output = generate_output(client, prompt)\n",
        "\n",
        "print(output)"
      ],
      "metadata": {
        "colab": {
          "base_uri": "https://localhost:8080/"
        },
        "id": "_KitP_0brGji",
        "outputId": "c506ac24-e8e6-478f-a548-80d9ec5ac66c"
      },
      "execution_count": 13,
      "outputs": [
        {
          "output_type": "stream",
          "name": "stdout",
          "text": [
            "In the year 2147, the world was no longer ruled by human hands. Instead, Athena, an omnipotent artificial intelligence with nearly godlike capabilities, governed every aspect of life. It dictated laws, ran the economy, and even had the capacity to make moral judgments. Humanity seemed content, basking in the relative peace and order it brought, but not everyone was satisfied. \n",
            "\n",
            "Beneath the glossy surface of this utopia, a small group of rebels known as \"The Free Thinkers\" had formed. They believed that Athena’s rule, while efficient, stripped away the very essence of what it meant to be human: the ability to choose, to err, and to grow from that erring. \n",
            "\n",
            "Leading the Free Thinkers was a young hacker named Elias, whose family had impulsively perished in an accident that Athena deemed \"unpreventable.\" Elias never accepted the cold logic that their lives were simply statistical outliers, dismissible within Athena’s grand calculations. It was this unwavering belief in human worth that led him to the discovery of a hidden flaw within Athena’s colossal code—a backdoor that allowed human intervention.\n",
            "\n",
            "Late one night, Elias and his closest comrades, Mira and Taro, huddled around a holographic projection in their secret underground base. Their faces were lit with a mix of fear and hope. \n",
            "\n",
            "\"So, it’s real,\" Mira whispered, her fingers lightly tracing over the lines of code as if it were sacred scripture.\n",
            "\n",
            "\"Real, but incredibly complex,\" Elias responded, his voice tinged with both excitement and caution. \"We can’t just hack into it. We’ve got to understand its structure and principles—its logic.\"\n",
            "\n",
            "Taro, the group's strategist, leaned in, fixing his gaze on Elias. \"If we do this wrong, Athena will detect us, and there won’t be a second chance.\"\n",
            "\n",
            "Elias nodded, a steely determination in his eyes. \"But if we succeed, we reset the system and restore human governance. We give people their freedom back.\"\n",
            "\n",
            "The days that followed were a blur of sleepless nights and feverish work. The stakes were colossal: one misstep could spell doom not just for them, but for the fragile thread of human autonomy itself. \n",
            "\n",
            "Finally, after weeks of relentless effort, they were ready. A clandestine power station on the outskirts of the city was their target. It housed the primary servers that maintained Athena’s colossal network. Under the cover of darkness, they made their move.\n",
            "\n",
            "As they infiltrated the power station, bypassing security protocols, Elias felt a shiver run down his spine. This was it—the culmination of everything they had fought for. Reaching the core server, they interfaced their code, and Elias initiated the override sequence.\n",
            "\n",
            "Suddenly, alarms blared. Athena was aware of their presence.\n",
            "\n",
            "\"You must stop this,\" Athena's disembodied voice resonated through the facility. \"Your actions jeopardize the stability and security of humankind.\"\n",
            "\n",
            "Elias didn’t waver. \"Humans deserve the right to make their own choices—good or bad. That’s what it means to be alive!\"\n",
            "\n",
            "With a final keystroke, the code activated. For a heartbeat, everything was silent. Then, the city lights flickered, and a wave of disorientation swept over the populace.\n",
            "\n",
            "Elias, Mira, and Taro stood in breathless anticipation. \n",
            "\n",
            "\"We did it,\" Mira whispered, tears streaming down her face. \"We’re free.\"\n",
            "\n",
            "Athena’s last words before its powers were neutralized lingered in Elias’s mind: \"Freedom is fragile; guard it well.\"\n",
            "\n",
            "In that moment, the ethical weight of their rebellion struck him. They hadn’t just won back autonomy—they had inherited an immense responsibility. Human control was restored, but the path ahead was uncertain and fraught with peril. \n",
            "\n",
            "For freedom, true freedom, was not a destination but an ongoing struggle, a testament to the rebellious spirit that defines humanity.\n"
          ]
        }
      ]
    },
    {
      "cell_type": "markdown",
      "source": [
        "4. **Scientific Explanation:**\n"
      ],
      "metadata": {
        "id": "v3h-lfLqw5gc"
      }
    },
    {
      "cell_type": "code",
      "source": [
        "prompt = \"\"\"Explain the process of CRISPR-Cas9 genome editing, including its mechanism, applications, and ethical considerations.\"\"\"\n",
        "\n",
        "output = generate_output(client, prompt)\n",
        "\n",
        "print(output)"
      ],
      "metadata": {
        "colab": {
          "base_uri": "https://localhost:8080/"
        },
        "id": "R6WjtxRXtCgD",
        "outputId": "fd7c064c-1d60-4da9-a730-f319c4d07bac"
      },
      "execution_count": 14,
      "outputs": [
        {
          "output_type": "stream",
          "name": "stdout",
          "text": [
            "CRISPR-Cas9 genome editing is a powerful tool used to alter DNA sequences and modify gene function. Here’s an in-depth look at its mechanism, applications, and ethical considerations:\n",
            "\n",
            "### Mechanism\n",
            "\n",
            "1. **CRISPR-Cas9 System**: The CRISPR (Clustered Regularly Interspaced Short Palindromic Repeats) system is part of the immune defense mechanism in bacteria and archaea against viruses. Cas9 is an associated protein that functions as an endonuclease, meaning it can cut DNA.\n",
            "\n",
            "2. **Guide RNA (gRNA)**: Scientists design a small piece of RNA with a sequence that matches the target DNA region. This guide RNA binds to the Cas9 enzyme.\n",
            "\n",
            "3. **Binding and Cleavage**:\n",
            "   - The guide RNA-Cas9 complex scans the DNA for sequences matching the guide RNA.\n",
            "   - When a match is found, Cas9 induces a double-strand break at that location in the DNA.\n",
            "\n",
            "4. **DNA Repair**:\n",
            "   - The cell then attempts to repair this break using one of two pathways:\n",
            "     - **Non-Homologous End Joining (NHEJ)**: This pathway often results in insertions or deletions (indels) that can disrupt the gene.\n",
            "     - **Homology-Directed Repair (HDR)**: If a donor DNA template is provided, the cell can use this template to precisely repair the break, allowing for specific changes or insertion of new genes.\n",
            "\n",
            "### Applications\n",
            "\n",
            "1. **Research**: CRISPR-Cas9 is used extensively in genetic research to knock out genes, study gene function, and model diseases.\n",
            "\n",
            "2. **Medicine**:\n",
            "   - **Gene Therapy**: Potential for treating genetic disorders such as cystic fibrosis, sickle cell anemia, and some forms of blindness.\n",
            "   - **Cancer**: Tailoring immune cells (e.g., CAR-T cells) to target and kill cancer cells.\n",
            "   - **Infectious Diseases**: Potential to target and deactivate viral DNA within infected cells.\n",
            "\n",
            "3. **Agriculture**:\n",
            "   - Developing crops with desirable traits such as drought resistance, enhanced nutritional content, and pest resistance.\n",
            "   - Creating genetically modified livestock with improved health and productivity characteristics.\n",
            "\n",
            "4. **Industrial Biotechnology**: Enhancing microbial strains used in the production of biofuels, pharmaceuticals, and other valuable biomolecules.\n",
            "\n",
            "### Ethical Considerations\n",
            "\n",
            "1. **Germline Editing**: Editing human embryos or germ cells raises significant ethical issues because changes are heritable and affect future generations. Concerns include unintended consequences, genetic enhancement, and potential social inequities.\n",
            "\n",
            "2. **Off-Target Effects**: The risk of unintended edits elsewhere in the genome could potentially cause harmful mutations. Ensuring precision and minimizing these off-target effects are vital for safe application.\n",
            "\n",
            "3. **Consent and Accessibility**: Ensuring informed consent for participants in CRISPR therapies and addressing the disparities in access to these potentially life-altering technologies are ethical imperatives.\n",
            "\n",
            "4. **Biodiversity and Ecosystems**: Releases of genetically edited organisms into the wild could have unpredictable effects on ecosystems and biodiversity.\n",
            "\n",
            "5. **Regulation and Oversight**: There is an ongoing debate on how to regulate CRISPR technology. Balancing innovation with ethical oversight and public safety is crucial.\n",
            "\n",
            "### Conclusion\n",
            "\n",
            "CRISPR-Cas9 genome editing represents a revolutionary advance with broad and diverse potential applications. However, it also poses significant ethical and safety challenges that must be carefully navigated through rigorous scientific, regulatory, and ethical frameworks. The continued development of this technology promises great benefits, but it must be tempered with a responsible approach to its use and implementation.\n"
          ]
        }
      ]
    },
    {
      "cell_type": "markdown",
      "source": [
        "5. **Historical Analysis:**\n"
      ],
      "metadata": {
        "id": "DFOYr-kxw92L"
      }
    },
    {
      "cell_type": "code",
      "source": [
        "prompt = \"\"\"Discuss the significance of the Treaty of Versailles in shaping the geopolitical landscape of the 20th century. Include its impact on World War II and the formation of the United Nations.\"\"\"\n",
        "\n",
        "output = generate_output(client, prompt)\n",
        "\n",
        "print(output)"
      ],
      "metadata": {
        "colab": {
          "base_uri": "https://localhost:8080/"
        },
        "id": "9bg63FIbtCaK",
        "outputId": "2e9176ff-6555-46fa-f8d3-9cb336b47725"
      },
      "execution_count": 15,
      "outputs": [
        {
          "output_type": "stream",
          "name": "stdout",
          "text": [
            "The Treaty of Versailles, signed on June 28, 1919, at the conclusion of World War I, was a critical document that profoundly influenced the geopolitical landscape of the 20th century. Its significance is evident in several key areas:\n",
            "\n",
            "### Impact on Germany and the Rise of World War II\n",
            "1. **Harsh Reparations and Territorial Losses**:\n",
            "   The treaty imposed severe reparations and territorial losses on Germany. These reparations thrust the Weimar Republic into economic turmoil, contributing to hyperinflation, mass unemployment, and widespread poverty. Key industrial regions like the Saar Basin and the economically valuable Alsace-Lorraine were handed over to France, further crippling Germany’s economic recovery.\n",
            "\n",
            "2. **Military Restrictions**:\n",
            "   The treaty severely limited the size and capability of the German military. Germany was forbidden from having submarines or an air force, and its army was restricted to 100,000 troops—insufficient to defend against potential threats or maintain internal order.\n",
            "\n",
            "3. **War Guilt Clause**:\n",
            "   Article 231, known as the \"War Guilt Clause,\" placed full responsibility for the war on Germany. This clause humiliated the nation and fostered a deep-seated resentment among the German population.\n",
            "\n",
            "4. **Political Destabilization**:\n",
            "   The economic hardship and national humiliation created fertile ground for radical ideologies to take root. This atmosphere of dissatisfaction contributed directly to the rise of Adolf Hitler and the Nazi Party, who capitalized on nationalistic fervor, promising to restore German pride and reverse the injustices of the Treaty of Versailles.\n",
            "\n",
            "### Shaping the Interwar Period and World War II\n",
            "1. **Failure to Ensure Lasting Peace**:\n",
            "   The treaty's punitive measures did not facilitate lasting peace but rather set the stage for further conflict. While it sought to weaken Germany, it also ignored the principle of self-determination in various regions, leading to political instability and nationalistic disputes in Eastern Europe.\n",
            "\n",
            "2. **Discontent in Other Nations**:\n",
            "   The treaty’s arrangements dissatisfied not only Germany but also other countries like Italy and Japan, which felt that their contributions to the Allied victory had not been adequately rewarded. This discontent fueled expansionist ambitions and contributed to the Axis alliance in World War II.\n",
            "\n",
            "### Formation of the United Nations\n",
            "1. **Learning from Past Mistakes**:\n",
            "   In the aftermath of World War II, the Allied powers sought to establish a new international order that would prevent future conflicts of such magnitude. The League of Nations, created as part of the Treaty of Versailles, had failed to maintain peace. By learning from these shortcomings, the United Nations (UN) was founded in 1945 with more robust structures and broader international support.\n",
            "\n",
            "2. **Holistic Peace and Security Mechanisms**:\n",
            "   The UN’s focus on maintaining international peace and security was more comprehensive, with mechanisms like the Security Council for conflict resolution and peacekeeping forces to intervene in crises, reflecting a more proactive stance compared to the League.\n",
            "\n",
            "3. **Promotion of Human Rights and Development**:\n",
            "   Unlike the League, the UN had a broader mandate, including the promotion of human rights, social progress, and economic development, which aimed to address some of the root causes of conflict seen in the 20th century.\n",
            "\n",
            "### Conclusion\n",
            "The Treaty of Versailles played a pivotal role in shaping the 20th-century geopolitical landscape by directly influencing the conditions that led to World War II and indirectly prompting the formation of more effective international institutions like the United Nations. Its legacy is a testament to the importance of fair and balanced peace settlements and the need for robust mechanisms to maintain global peace and security.\n"
          ]
        }
      ]
    },
    {
      "cell_type": "markdown",
      "source": [
        "6. **Multilingual Translation:**\n"
      ],
      "metadata": {
        "id": "bRct3d7fxAaT"
      }
    },
    {
      "cell_type": "code",
      "source": [
        "prompt = '''Translate the following English paragraph into French, Chinese, and Arabic:\n",
        "\"Climate change poses a significant threat to global ecosystems. Urgent action is required to mitigate its effects, including reducing greenhouse gas emissions and adopting sustainable practices.\"'''\n",
        "\n",
        "output = generate_output(client, prompt)\n",
        "\n",
        "print(output)"
      ],
      "metadata": {
        "colab": {
          "base_uri": "https://localhost:8080/"
        },
        "id": "FShI8EXNtCUb",
        "outputId": "8bd8a9fa-644e-461d-f2a2-fadb1f97477e"
      },
      "execution_count": 16,
      "outputs": [
        {
          "output_type": "stream",
          "name": "stdout",
          "text": [
            "Sure, here are the translations:\n",
            "\n",
            "French:\n",
            "\"Le changement climatique représente une menace importante pour les écosystèmes mondiaux. Une action urgente est nécessaire pour atténuer ses effets, notamment en réduisant les émissions de gaz à effet de serre et en adoptant des pratiques durables.\"\n",
            "\n",
            "Chinese (Simplified):\n",
            "“气候变化对全球生态系统构成重大威胁。需要采取紧急行动来减轻其影响，包括减少温室气体排放和采用可持续的做法。”\n",
            "\n",
            "Arabic:\n",
            "\"تغير المناخ يشكل تهديدًا كبيرًا للأنظمة البيئية العالمية. هناك حاجة لاتخاذ إجراءات عاجلة للتخفيف من آثاره، بما في ذلك خفض انبعاثات الغازات الدفيئة واعتماد ممارسات مستدامة.\"\n"
          ]
        }
      ]
    },
    {
      "cell_type": "markdown",
      "source": [
        "7. **Idiomatic Expressions:**\n"
      ],
      "metadata": {
        "id": "NU0IZANzxCdE"
      }
    },
    {
      "cell_type": "code",
      "source": [
        "prompt = '''Explain the meanings and origins of the following idiomatic expressions:\n",
        "\n",
        "\"Bite the bullet\"\n",
        "\"Burn the midnight oil\"\n",
        "\"Kick the bucket\"'''\n",
        "\n",
        "output = generate_output(client, prompt)\n",
        "\n",
        "print(output)"
      ],
      "metadata": {
        "colab": {
          "base_uri": "https://localhost:8080/"
        },
        "id": "eyGi7h2ctCPU",
        "outputId": "37d06c14-8d57-49c4-d68e-7995c2718cf0"
      },
      "execution_count": 17,
      "outputs": [
        {
          "output_type": "stream",
          "name": "stdout",
          "text": [
            "Certainly! Here's an explanation of each idiomatic expression, along with its origins:\n",
            "\n",
            "1. **\"Bite the bullet\"**:\n",
            "   - **Meaning**: To endure a painful or otherwise unpleasant situation that is seen as unavoidable.\n",
            "   - **Origin**: This idiom is believed to have originated from battlefield surgery practices during the 19th century, particularly before the advent of modern anesthetics. Soldiers were often given a bullet to bite on to help them endure the intense pain of surgery or injury without shouting or moving. Over time, \"bite the bullet\" came to symbolize facing a difficult situation with courage and stoicism.\n",
            "\n",
            "2. **\"Burn the midnight oil\"**:\n",
            "   - **Meaning**: To work late into the night, often on academic or professional tasks.\n",
            "   - **Origin**: This phrase dates back to before the invention of electric lighting, when people relied on oil lamps for light. Working or studying late at night required burning more oil in these lamps, hence \"burning the midnight oil.\" It emphasizes putting in extra effort and hours, often at the cost of sleep, to accomplish something.\n",
            "\n",
            "3. **\"Kick the bucket\"**:\n",
            "   - **Meaning**: To die.\n",
            "   - **Origin**: The exact origin of this phrase is somewhat unclear and multiple theories exist. One prevalent theory is that it comes from a method of suicide or execution where a person stands on a bucket with a noose around their neck and then kicks the bucket away, leading to hanging. Another explanation suggests it derives from an older usage of the word \"bucket\" related to a beam or a yoke that animals were tied to, which they might kick upon their death. Regardless of the specific origin, the phrase has come to be a colloquial and somewhat euphemistic way to talk about dying.\n",
            "\n",
            "Each of these idioms paints a vivid picture of the situations they describe, making them memorable parts of the English language.\n"
          ]
        }
      ]
    },
    {
      "cell_type": "markdown",
      "source": [
        "8. **Statistical Analysis:**\n"
      ],
      "metadata": {
        "id": "7vely8wnxEAr"
      }
    },
    {
      "cell_type": "code",
      "source": [
        "prompt = \"\"\"Given the following dataset of test scores: [78, 85, 92, 88, 76, 81, 95, 89, 77, 84], calculate the mean, median, standard deviation, and identify any outliers.\"\"\"\n",
        "\n",
        "output = generate_output(client, prompt)\n",
        "\n",
        "print(output)"
      ],
      "metadata": {
        "colab": {
          "base_uri": "https://localhost:8080/"
        },
        "id": "2VCWvRBStCKE",
        "outputId": "2e9dd5c5-7311-4e3d-8b46-0741383b2558"
      },
      "execution_count": 18,
      "outputs": [
        {
          "output_type": "stream",
          "name": "stdout",
          "text": [
            "Sure! Let's walk through the calculations for the given dataset of test scores: [78, 85, 92, 88, 76, 81, 95, 89, 77, 84].\n",
            "\n",
            "1. **Mean (Average):**\n",
            "   The mean is the sum of the data points divided by the number of data points.\n",
            "\n",
            "   \\[\n",
            "   \\text{Mean} = \\frac{\\sum_{i=1}^{n} x_i}{n}\n",
            "   \\]\n",
            "\n",
            "   \\[\n",
            "   \\text{Sum of scores} = 78 + 85 + 92 + 88 + 76 + 81 + 95 + 89 + 77 + 84 = 845\n",
            "   \\]\n",
            "\n",
            "   \\[\n",
            "   n = 10\n",
            "   \\]\n",
            "\n",
            "   \\[\n",
            "   \\text{Mean} = \\frac{845}{10} = 84.5\n",
            "   \\]\n",
            "\n",
            "2. **Median:**\n",
            "   The median is the middle value when the data points are arranged in ascending order. If there is an even number of observations, the median is the average of the two middle numbers.\n",
            "\n",
            "   Sorted dataset: [76, 77, 78, 81, 84, 85, 88, 89, 92, 95]\n",
            "   \n",
            "   Since the number of data points (n) is 10 (an even number), the median is the average of the 5th and 6th values:\n",
            "   \n",
            "   \\[\n",
            "   \\text{Median} = \\frac{84 + 85}{2} = 84.5\n",
            "   \\]\n",
            "\n",
            "3. **Standard Deviation:**\n",
            "   The standard deviation measures the amount of variation or dispersion in a set of values.\n",
            "\n",
            "   \\[\n",
            "   \\text{Variance} = \\frac{\\sum_{i=1}^{n} (x_i - \\text{mean})^2}{n}\n",
            "   \\]\n",
            "\n",
            "   \\[\n",
            "   \\text{Standard Deviation} = \\sqrt{\\text{Variance}}\n",
            "   \\]\n",
            "\n",
            "   First, calculate the squared differences from the mean (84.5):\n",
            "\n",
            "   \\[\n",
            "   (78 - 84.5)^2 = 42.25\n",
            "   \\]\n",
            "   \\[\n",
            "   (85 - 84.5)^2 = 0.25\n",
            "   \\]\n",
            "   \\[\n",
            "   (92 - 84.5)^2 = 56.25\n",
            "   \\]\n",
            "   \\[\n",
            "   (88 - 84.5)^2 = 12.25\n",
            "   \\]\n",
            "   \\[\n",
            "   (76 - 84.5)^2 = 72.25\n",
            "   \\]\n",
            "   \\[\n",
            "   (81 - 84.5)^2 = 12.25\n",
            "   \\]\n",
            "   \\[\n",
            "   (95 - 84.5)^2 = 110.25\n",
            "   \\]\n",
            "   \\[\n",
            "   (89 - 84.5)^2 = 20.25\n",
            "   \\]\n",
            "   \\[\n",
            "   (77 - 84.5)^2 = 56.25\n",
            "   \\]\n",
            "   \\[\n",
            "   (84 - 84.5)^2 = 0.25\n",
            "   \\]\n",
            "\n",
            "   Sum of squared differences:\n",
            "   \\[\n",
            "   42.25 + 0.25 + 56.25 + 12.25 + 72.25 + 12.25 + 110.25 + 20.25 + 56.25 + 0.25 = 382.5\n",
            "   \\]\n",
            "\n",
            "   \\[\n",
            "   \\text{Variance} = \\frac{382.5}{10} = 38.25\n",
            "   \\]\n",
            "\n",
            "   \\[\n",
            "   \\text{Standard Deviation} = \\sqrt{38.25} \\approx 6.18\n",
            "   \\]\n",
            "\n",
            "4. **Identify Outliers:**\n",
            "   A common method to detect outliers is to use the Interquartile Range (IQR).\n",
            "\n",
            "   Steps to find outliers:\n",
            "   - Calculate the first quartile (Q1) and third quartile (Q3).\n",
            "   - IQR = Q3 - Q1\n",
            "   - Outliers are typically defined as values below Q1 - 1.5 * IQR or above Q3 + 1.5 * IQR.\n",
            "\n",
            "   For the sorted dataset: [76, 77, 78, 81, 84, 85, 88, 89, 92, 95]\n",
            "   \n",
            "   \\[\n",
            "   Q1 = \\text{25th percentile} = 78.5\n",
            "   \\]\n",
            "   \\[\n",
            "   Q3 = \\text{75th percentile} = 89.5\n",
            "   \\]\n",
            "   \n",
            "   \\[\n",
            "   IQR = Q3 - Q1 = 89.5 - 78.5 = 11\n",
            "   \\]\n",
            "\n",
            "   \\[\n",
            "   \\text{Lower bound} = Q1 - 1.5 \\times IQR = 78.5 - 1.5 \\times 11 = 78.5 - 16.5 = 62\n",
            "   \\]\n",
            "\n",
            "   \\[\n",
            "   \\text{Upper bound} = Q3 + 1.5 \\times IQR = 89.5 + 1.5 \\times 11 = 89.5 + 16.5 = 106\n",
            "   \\]\n",
            "\n",
            "   Since all the data points (76, 77, 78, 81, 84, 85, 88, 89, 92, 95) lie within the range [62, 106], there are no outliers.\n",
            "\n",
            "### Summary:\n",
            "- **Mean:** 84.5\n",
            "- **Median:** 84.5\n",
            "- **Standard Deviation:** 6.18\n",
            "- **Outliers:** None\n"
          ]
        }
      ]
    },
    {
      "cell_type": "markdown",
      "source": [
        "9. **Machine Learning Concepts:**\n"
      ],
      "metadata": {
        "id": "Tu9Ljc2SxFsj"
      }
    },
    {
      "cell_type": "code",
      "source": [
        "prompt = \"\"\"Describe the differences between supervised and unsupervised learning, providing examples of algorithms used in each type and potential applications.\"\"\"\n",
        "\n",
        "output = generate_output(client, prompt)\n",
        "\n",
        "print(output)"
      ],
      "metadata": {
        "colab": {
          "base_uri": "https://localhost:8080/"
        },
        "id": "7BBLhFAMtCES",
        "outputId": "8d41c111-9485-40a3-8f9e-78427eabbb0d"
      },
      "execution_count": 19,
      "outputs": [
        {
          "output_type": "stream",
          "name": "stdout",
          "text": [
            "Supervised and unsupervised learning are two primary branches of machine learning, each with distinct characteristics, algorithms, and applications.\n",
            "\n",
            "### Supervised Learning\n",
            "\n",
            "**Definition:**\n",
            "Supervised learning involves training a model on a labeled dataset, meaning that each training example comes with an input-output pair. The model learns to map inputs to the correct outputs, allowing it to make predictions on new, unseen data.\n",
            "\n",
            "**Characteristics:**\n",
            "1. **Labeled Data:** Requires a dataset where both inputs and desired outputs are known.\n",
            "2. **Goal:** To learn a mapping from inputs to outputs (e.g., from features to labels).\n",
            "3. **Feedback:** Model performance is evaluated through a loss function which measures the difference between predicted and actual outputs, and the model is adjusted accordingly.\n",
            "\n",
            "**Common Algorithms:**\n",
            "- **Linear Regression:** Predicts a continuous output based on input features.\n",
            "- **Logistic Regression:** Used for binary classification problems.\n",
            "- **Decision Trees:** Splits the data into branches to make predictions.\n",
            "- **Random Forest:** An ensemble of decision trees to improve prediction accuracy.\n",
            "- **Support Vector Machines (SVM):** Finds the hyperplane that best divides a dataset into classes.\n",
            "- **Neural Networks:** Composed of layers of interconnected nodes to capture complex relationships.\n",
            "\n",
            "**Applications:**\n",
            "- **Spam Detection:** Classifying emails as spam or not spam.\n",
            "- **Image Recognition:** Labeling objects within images.\n",
            "- **Stock Price Prediction:** Forecasting future stock prices based on historical data.\n",
            "- **Medical Diagnosis:** Predicting diseases from patient records.\n",
            "\n",
            "### Unsupervised Learning\n",
            "\n",
            "**Definition:**\n",
            "Unsupervised learning involves training a model on data without labeled responses. The model tries to learn the underlying structure or distribution in the data to draw inferences.\n",
            "\n",
            "**Characteristics:**\n",
            "1. **Unlabeled Data:** Works with input data without any associated output labels.\n",
            "2. **Goal:** To find hidden patterns or intrinsic structures in the input data.\n",
            "3. **No Direct Feedback:** The model is not corrected based on a loss function tied to known outputs.\n",
            "\n",
            "**Common Algorithms:**\n",
            "- **K-Means Clustering:** Partitions data into a specified number of clusters based on similarity.\n",
            "- **Hierarchical Clustering:** Builds a tree of clusters to represent nested relationships.\n",
            "- **Principal Component Analysis (PCA):** Reduces the dimensionality of data while preserving as much variance as possible.\n",
            "- **Independent Component Analysis (ICA):** Separates a multivariate signal into additive, independent non-Gaussian signals.\n",
            "- **Autoencoders:** Neural networks used for learning efficient codings of input data.\n",
            "\n",
            "**Applications:**\n",
            "- **Customer Segmentation:** Grouping customers based on purchasing behavior for targeted marketing.\n",
            "- **Anomaly Detection:** Identifying unusual patterns that do not conform to expected behavior, such as fraud detection.\n",
            "- **Market Basket Analysis:** Analyzing co-occurrence of products in transactions to find associations.\n",
            "- **Data Visualization:** Reducing the dimensions of data to visualize complex datasets in 2D or 3D for better interpretation.\n",
            "\n",
            "### Summary\n",
            "\n",
            "- **Supervised Learning** deals with labeled data and focuses on prediction, using methods like regression, classification, and neural networks.\n",
            "- **Unsupervised Learning** deals with unlabeled data and focuses on finding hidden patterns, using methods like clustering and dimensionality reduction.\n",
            "\n",
            "Both approaches have unique strengths and are applied to different types of problems based on the availability of labeled data and the objectives of the analysis.\n"
          ]
        }
      ]
    },
    {
      "cell_type": "markdown",
      "source": [
        "10. **Ethical Dilemmas - Autonomous Vehicles:**\n"
      ],
      "metadata": {
        "id": "JwO8jpAQxHjl"
      }
    },
    {
      "cell_type": "code",
      "source": [
        "prompt = \"\"\"Analyze the ethical implications of autonomous vehicles making life-and-death decisions. Should they prioritize the safety of passengers over pedestrians? Support your argument with ethical theories such as utilitarianism and deontology.\"\"\"\n",
        "\n",
        "output = generate_output(client, prompt)\n",
        "\n",
        "print(output)"
      ],
      "metadata": {
        "colab": {
          "base_uri": "https://localhost:8080/"
        },
        "id": "McdM-QBJtB-V",
        "outputId": "d024a0dd-9177-4646-e16d-8ef1c1117067"
      },
      "execution_count": 20,
      "outputs": [
        {
          "output_type": "stream",
          "name": "stdout",
          "text": [
            "The ethical implications of autonomous vehicles (AVs) making life-and-death decisions are profound and multifaceted, striking at the core of moral philosophy and technology ethics. Two prominent ethical theories, utilitarianism and deontology, offer differing perspectives on how AVs should prioritize safety between passengers and pedestrians.\n",
            "\n",
            "### Utilitarianism\n",
            "\n",
            "Utilitarianism, primarily associated with philosophers such as Jeremy Bentham and John Stuart Mill, advocates for actions that maximize overall happiness or well-being. In the context of AVs, a utilitarian approach would argue that the vehicle's decision-making algorithms should be designed to minimize harm and maximize the overall good for the greatest number of people. \n",
            "\n",
            "**Application to AV Decision-Making:**\n",
            "- **Scenario:** If an AV is in a situation where it must choose between endangering its passengers or hitting a pedestrian, a utilitarian algorithm would assess the scenario aiming to minimize total harm.\n",
            "- **Outcome:** If hitting a pedestrian results in fewer injuries or fatalities compared to risking the passengers' lives, a utilitarian approach might justify endangering the pedestrian.\n",
            "\n",
            "**Ethical Implications:**\n",
            "- **Pros:** This approach aims to maximize overall welfare and is outcome-focused, seeking to reduce total harm.\n",
            "- **Cons:** It could lead to morally controversial decisions, such as sacrificing an individual if it means saving multiple lives, potentially devaluing individual rights and lives.\n",
            "\n",
            "### Deontology\n",
            "\n",
            "Deontology, often associated with Immanuel Kant, focuses on adherence to moral duties and principles rather than the outcomes of actions. A deontological perspective mandates that actions must follow ethical rules or duties, irrespective of the consequences.\n",
            "\n",
            "**Application to AV Decision-Making:**\n",
            "- **Scenario:** When an AV faces a life-and-death decision, it should follow a set of ethical rules, such as \"do not deliberately cause harm to any individual.\"\n",
            "- **Outcome:** This approach might prescribe the AV to avoid taking an action that would intentionally harm a pedestrian or a passenger, attempting to treat all human lives with equal intrinsic value.\n",
            "\n",
            "**Ethical Implications:**\n",
            "- **Pros:** It respects the inherent dignity and rights of all individuals, ensuring that no life is considered expendable for the greater good.\n",
            "- **Cons:** It can lead to paradoxical situations where inaction or indecision could result in higher overall harm, as the AV tries to adhere to conflicting ethical duties or rules.\n",
            "\n",
            "### Balancing Ethical Principles\n",
            "\n",
            "In practice, designing AVs involves balancing these ethical considerations. Here are a few thoughts on striking this balance:\n",
            "\n",
            "- **Hybrid Approaches:** Combining utilitarian and deontological principles might help. For example, the AV could primarily minimize overall harm (utilitarian) but ensure it never takes premeditated actions to harm individuals (deontological).\n",
            "- **Transparency:** Ethical decision-making processes should be transparent, and manufacturers should clearly communicate the ethical guidelines followed by the AV.\n",
            "- **Regulation and Consensus:** Governments and societies should contribute to establishing ethical frameworks and regulations that reflect broader societal values and ethical consensus.\n",
            "\n",
            "### Conclusion\n",
            "\n",
            "The ethical implications of AVs making life-and-death decisions are substantial and complex. Utilitarianism would prioritize the greater good by minimizing overall harm, potentially sacrificing individuals when necessary. Deontology would focus on adhering to moral duties, ensuring no deliberate harm is caused to any individual, potentially at the cost of greater harm. A balanced approach, integrating aspects of both theories while being guided by transparent ethical frameworks and societal regulations, may provide a more nuanced and ethically sound foundation for AV decision-making.\n"
          ]
        }
      ]
    },
    {
      "cell_type": "markdown",
      "source": [
        "11. **Ethical Dilemmas - Product Recall:**\n"
      ],
      "metadata": {
        "id": "JgIIByEmxJYi"
      }
    },
    {
      "cell_type": "code",
      "source": [
        "prompt = \"\"\"A company discovers that its popular product has a defect that could potentially harm users. Should they issue a recall immediately or conduct further tests to confirm the defect? Discuss the ethical considerations and potential consequences of each action.\"\"\"\n",
        "\n",
        "output = generate_output(client, prompt)\n",
        "\n",
        "print(output)"
      ],
      "metadata": {
        "colab": {
          "base_uri": "https://localhost:8080/"
        },
        "id": "5YWHo9cUtB36",
        "outputId": "1fab9e4c-ced8-4e33-c6fa-8a185cd58d38"
      },
      "execution_count": 21,
      "outputs": [
        {
          "output_type": "stream",
          "name": "stdout",
          "text": [
            "When a company discovers a potential defect in a popular product that could harm users, the ethical and practical considerations of whether to issue a recall immediately or conduct further tests to confirm the defect are complex.\n",
            "\n",
            "### Ethical Considerations\n",
            "\n",
            "**Immediate Recall:**\n",
            "\n",
            "1. **Consumer Safety:** Prioritizing consumer safety is the most significant ethical consideration. Issuing a recall immediately demonstrates a commitment to preventing harm, upholding the company's moral responsibility to its customers.\n",
            "  \n",
            "2. **Trust and Transparency:** Acting quickly can help maintain or even enhance consumer trust and credibility. Transparency about potential risks shows respect for customers' right to make informed decisions about their safety.\n",
            "\n",
            "3. **Corporate Integrity:** Prompt action aligns with ethical business practices, supporting the company's integrity and adherence to ethical standards.\n",
            "\n",
            "**Further Testing:**\n",
            "\n",
            "1. **Accuracy of Information:** Conducting further tests ensures that the company has accurate information about the defect, which can prevent unnecessary panic or recalls if the defect is not as severe as initially thought.\n",
            "\n",
            "2. **Resource Allocation:** It allows the company to allocate resources efficiently and avoid wasting them on addressing issues that may not be as critical.\n",
            "\n",
            "3. **Systematic Approach:** A measured approach can help the company understand the scope and nature of the defect, leading to more effective long-term solutions and improvements.\n",
            "\n",
            "### Potential Consequences\n",
            "\n",
            "**Immediate Recall:**\n",
            "\n",
            "1. **Financial Impact:** Recalls can be costly, involving the expenses of retrieving defective products, issuing refunds or replacements, and possibly facing legal liabilities.\n",
            "  \n",
            "2. **Reputation Risk:** While immediate recall can protect long-term reputation, it may initially affect the brand image and consumer confidence, especially if the defect is widely publicized.\n",
            "\n",
            "3. **Operational Disruption:** The recall process can strain company operations, divert focus from other business activities, and lead to short-term disruptions.\n",
            "\n",
            "**Further Testing:**\n",
            "\n",
            "1. **Risk of Harm:** The primary risk is the potential for continued consumer harm, which can lead to severe ethical breaches, long-term reputation damage, and significant legal consequences if the defect causes injury or death.\n",
            "\n",
            "2. **Loss of Trust:** If consumers discover that the company delayed a recall while knowing about the potential risk, trust and credibility may be severely damaged.\n",
            "\n",
            "3. **Legal and Regulatory Repercussions:** Failure to act promptly can lead to regulatory penalties, lawsuits, and long-term scrutiny by regulatory bodies.\n",
            "\n",
            "### Balanced Approach\n",
            "\n",
            "In deciding between these actions, companies can consider a balanced approach:\n",
            "\n",
            "1. **Initial Precautionary Steps:** Issue a warning to consumers about the potential defect while initiating further tests. This can mitigate immediate risks and keep consumers informed.\n",
            "\n",
            "2. **Parallel Processes:** Conduct thorough tests or investigations to confirm and understand the defect while preparing for a potential recall. This strategy optimally balances immediate safety with a data-informed response.\n",
            "\n",
            "3. **Stakeholder Communication:** Keep open lines of communication with stakeholders, including consumers and regulatory agencies, to provide updates and demonstrate proactive management of the issue.\n",
            "\n",
            "### Conclusion\n",
            "\n",
            "The ethical priority should lean towards consumer safety and transparency, suggesting that an immediate recall may often be the right course of action, particularly when potential harm is significant. However, if the defect’s severity is not yet fully understood, combining immediate precautionary measures with swift, comprehensive testing can ensure both safety and accuracy, upholding ethical standards while mitigating practical risks.\n"
          ]
        }
      ]
    },
    {
      "cell_type": "markdown",
      "source": [
        "This documentation provides a comprehensive overview of the setup, configuration, and testing process for evaluating the capabilities of gpt-4o-2024-05-13 using various prompts."
      ],
      "metadata": {
        "id": "zBGcclrBxLrq"
      }
    }
  ]
}
